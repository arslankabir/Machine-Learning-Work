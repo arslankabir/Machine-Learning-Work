{
 "cells": [
  {
   "cell_type": "code",
   "execution_count": 14,
   "metadata": {},
   "outputs": [
    {
     "data": {
      "text/plain": [
       "array(['HipHop', 'Dance'], dtype=object)"
      ]
     },
     "execution_count": 14,
     "metadata": {},
     "output_type": "execute_result"
    }
   ],
   "source": [
    "import pandas as pd\n",
    "from sklearn.tree import DecisionTreeClassifier\n",
    "\n",
    "#importing data\n",
    "music_data = pd.read_csv('music.csv')\n",
    "\n",
    "#data is already clreaned just spiliting the data into two parts(training/testing)\n",
    "y = music_data['genre']\n",
    "x = music_data.drop(columns=['genre'])\n",
    "\n",
    "\n",
    "#creating the model and using Decision tree algorithm\n",
    "model = DecisionTreeClassifier()\n",
    "\n",
    "#training that model with the cleaned data\n",
    "model.fit(x,y)\n",
    "\n",
    "#apply predictions (predict method takes 2 2D arrays)\n",
    "predictions = model.predict([ [21,1],[22,0] ])\n",
    "predictions\n"
   ]
  },
  {
   "cell_type": "code",
   "execution_count": null,
   "metadata": {},
   "outputs": [],
   "source": []
  }
 ],
 "metadata": {
  "kernelspec": {
   "display_name": "Python 3 (ipykernel)",
   "language": "python",
   "name": "python3"
  },
  "language_info": {
   "codemirror_mode": {
    "name": "ipython",
    "version": 3
   },
   "file_extension": ".py",
   "mimetype": "text/x-python",
   "name": "python",
   "nbconvert_exporter": "python",
   "pygments_lexer": "ipython3",
   "version": "3.9.1"
  }
 },
 "nbformat": 4,
 "nbformat_minor": 4
}
