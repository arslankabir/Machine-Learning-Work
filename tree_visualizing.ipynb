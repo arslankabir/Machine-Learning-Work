{
 "cells": [
  {
   "cell_type": "code",
   "execution_count": 2,
   "metadata": {},
   "outputs": [],
   "source": [
    "import pandas as pd\n",
    "from sklearn.tree import DecisionTreeClassifier\n",
    "from sklearn import tree\n",
    "\n",
    "#importing training data\n",
    "music_data = pd.read_csv('music.csv')\n",
    "\n",
    "#cleaning training data\n",
    "y = music_data['genre']\n",
    "x = music_data.drop(columns=['genre'])\n",
    "\n",
    "#creating the model\n",
    "model = DecisionTreeClassifier()\n",
    "\n",
    "#training that model with the cleaned data\n",
    "model.fit(x,y)\n",
    "\n",
    "#visualizing the model\n",
    "tree.export_graphviz(model, out_file='music-recommender.dot',\n",
    "                    feature_names=['age','gender'],\n",
    "                    class_names=sorted(y.unique()),\n",
    "                    label='all',\n",
    "                    rounded=True,\n",
    "                    filled=True)\n",
    "\n",
    "#apply predictions (predict method takes 2 2D arrays)\n",
    "# predictions = model.predict([ [21,1],[22,0] ])\n",
    "# predictions"
   ]
  },
  {
   "cell_type": "code",
   "execution_count": null,
   "metadata": {},
   "outputs": [],
   "source": []
  }
 ],
 "metadata": {
  "kernelspec": {
   "display_name": "Python 3",
   "language": "python",
   "name": "python3"
  },
  "language_info": {
   "codemirror_mode": {
    "name": "ipython",
    "version": 3
   },
   "file_extension": ".py",
   "mimetype": "text/x-python",
   "name": "python",
   "nbconvert_exporter": "python",
   "pygments_lexer": "ipython3",
   "version": "3.7.6"
  }
 },
 "nbformat": 4,
 "nbformat_minor": 4
}
