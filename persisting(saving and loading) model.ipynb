{
 "cells": [
  {
   "cell_type": "code",
   "execution_count": 7,
   "metadata": {},
   "outputs": [
    {
     "ename": "SyntaxError",
     "evalue": "invalid syntax (Temp/ipykernel_8976/219309141.py, line 5)",
     "output_type": "error",
     "traceback": [
      "\u001b[1;36m  File \u001b[1;32m\"C:\\Users\\USER\\AppData\\Local\\Temp/ipykernel_8976/219309141.py\"\u001b[1;36m, line \u001b[1;32m5\u001b[0m\n\u001b[1;33m    from sklearn.external.joblib as joblib\u001b[0m\n\u001b[1;37m                                 ^\u001b[0m\n\u001b[1;31mSyntaxError\u001b[0m\u001b[1;31m:\u001b[0m invalid syntax\n"
     ]
    }
   ],
   "source": [
    "import pandas as pd\n",
    "from sklearn.tree import DecisionTreeClassifier\n",
    "# from sklearn.external import joblib #(methods for saving and loading models)\n",
    "import joblib\n",
    "\n",
    "#importing training data\n",
    "# music_data = pd.read_csv('music.csv')\n",
    "\n",
    "#for saving the model\n",
    "# #cleaning training data\n",
    "# y = music_data['genre']\n",
    "# x = music_data.drop(columns=['genre'])\n",
    "\n",
    "# #creating the model\n",
    "# model = DecisionTreeClassifier()\n",
    "\n",
    "# #training that model with the cleaned data\n",
    "# model.fit(x,y)\n",
    "\n",
    "\n",
    "\n",
    "#saving the trained model\n",
    "# joblib.dump(model,'music-recommender.joblib')\n",
    "\n",
    "#loading that model\n",
    "model = joblib.load('music-recommender.joblib')\n",
    "\n",
    "# apply predictions (predict method takes 2 2D arrays)\n",
    "predictions = model.predict([ [21,1],[22,0] ])\n",
    "predictions"
   ]
  },
  {
   "cell_type": "code",
   "execution_count": null,
   "metadata": {},
   "outputs": [],
   "source": []
  }
 ],
 "metadata": {
  "kernelspec": {
   "display_name": "Python 3 (ipykernel)",
   "language": "python",
   "name": "python3"
  },
  "language_info": {
   "codemirror_mode": {
    "name": "ipython",
    "version": 3
   },
   "file_extension": ".py",
   "mimetype": "text/x-python",
   "name": "python",
   "nbconvert_exporter": "python",
   "pygments_lexer": "ipython3",
   "version": "3.9.1"
  }
 },
 "nbformat": 4,
 "nbformat_minor": 4
}
